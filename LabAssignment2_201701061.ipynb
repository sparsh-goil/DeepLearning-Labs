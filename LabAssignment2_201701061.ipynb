{
  "nbformat": 4,
  "nbformat_minor": 0,
  "metadata": {
    "colab": {
      "name": "LabAssignment2_201701061.ipynb",
      "provenance": [],
      "collapsed_sections": [],
      "toc_visible": true,
      "include_colab_link": true
    },
    "kernelspec": {
      "name": "python3",
      "display_name": "Python 3"
    },
    "accelerator": "GPU"
  },
  "cells": [
    {
      "cell_type": "markdown",
      "metadata": {
        "id": "view-in-github",
        "colab_type": "text"
      },
      "source": [
        "<a href=\"https://colab.research.google.com/github/sparsh-goil/DeepLearning-Labs/blob/master/LabAssignment2_201701061.ipynb\" target=\"_parent\"><img src=\"https://colab.research.google.com/assets/colab-badge.svg\" alt=\"Open In Colab\"/></a>"
      ]
    },
    {
      "cell_type": "code",
      "metadata": {
        "id": "C2jPu0x00YMv",
        "colab_type": "code",
        "colab": {}
      },
      "source": [
        "import tensorflow as tf\n",
        "import matplotlib.pyplot as plt\n",
        "import numpy as np\n",
        "import math\n",
        "from sklearn.metrics import confusion_matrix\n",
        "import seaborn as sns"
      ],
      "execution_count": null,
      "outputs": []
    },
    {
      "cell_type": "markdown",
      "metadata": {
        "id": "6ubps8cU9Lo7",
        "colab_type": "text"
      },
      "source": [
        "# **Neural Network Model Architecture**"
      ]
    },
    {
      "cell_type": "code",
      "metadata": {
        "id": "tg-aADMh27qQ",
        "colab_type": "code",
        "colab": {}
      },
      "source": [
        "class NeuralNetwork:\n",
        "  def __init__(self,batch_size,input_size,hidden_layer1_size,hidden_layer2_size,hidden_layer3_size,output_size):\n",
        "    self.input_size = input_size\n",
        "    self.batch_size = batch_size\n",
        "    self.hidden_layer1_size = hidden_layer1_size\n",
        "    self.hidden_layer2_size = hidden_layer2_size\n",
        "    self.hidden_layer3_size = hidden_layer3_size\n",
        "    self.output_size = output_size\n",
        "    tf.random.set_seed(42)\n",
        "    self.W1 = self.initialize_weights(input_size,hidden_layer1_size)\n",
        "    self.W2 = self.initialize_weights(hidden_layer1_size,hidden_layer2_size)\n",
        "    self.W3 = self.initialize_weights(hidden_layer2_size,hidden_layer3_size)\n",
        "    self.W4 = self.initialize_weights(hidden_layer3_size,output_size)\n",
        "    self.B1 = tf.random.normal(shape = [batch_size,hidden_layer1_size],mean=0,stddev=1,dtype=tf.dtypes.float32)\n",
        "    self.B2 = tf.random.normal(shape = [batch_size,hidden_layer2_size],mean=0,stddev=1,dtype=tf.dtypes.float32)\n",
        "    self.B3 = tf.random.normal(shape = [batch_size,hidden_layer3_size],mean=0,stddev=1,dtype=tf.dtypes.float32)\n",
        "    self.B4 = tf.random.normal(shape = [batch_size,output_size],mean=0,stddev=1,dtype=tf.dtypes.float32)\n",
        "    self.act = {\n",
        "        'tanh':tf.math.tanh,\n",
        "        'relu':tf.nn.relu,\n",
        "        'sigmoid':tf.math.sigmoid,\n",
        "        'softmax':tf.nn.softmax,\n",
        "\n",
        "    }\n",
        "  def initialize_weights(self,X,Y):\n",
        "    weights = tf.random.normal(shape=[X,Y],mean=0,stddev=1,dtype=tf.dtypes.float32)\n",
        "    return weights\n",
        "    \n",
        "  def forward(self,X_batch,activation,activation_output):\n",
        "    # print(activation)\n",
        "    #hidden layer1\n",
        "    Z1 = tf.add(tf.matmul(X_batch,self.W1),self.B1)\n",
        "    A1 = self.act[activation](Z1)\n",
        "    #hidden layer2\n",
        "    Z2 = tf.add(tf.matmul(A1,self.W2),self.B2)\n",
        "    A2 = tf.nn.relu(Z2)\n",
        "    #hidden layer 3\n",
        "    Z3 = tf.add(tf.matmul(A2,self.W3),self.B3)\n",
        "    A3 = self.act[activation](Z3)\n",
        "    #ouput layer\n",
        "    Z4 = tf.add(tf.matmul(A3,self.W4),self.B4)\n",
        "    Output = self.act[activation_output](Z4)\n",
        "    return Output"
      ],
      "execution_count": null,
      "outputs": []
    },
    {
      "cell_type": "markdown",
      "metadata": {
        "id": "vdsqR_8B5AHK",
        "colab_type": "text"
      },
      "source": [
        "# **Accuracy calculation**"
      ]
    },
    {
      "cell_type": "code",
      "metadata": {
        "id": "MPzdXX4r5DY_",
        "colab_type": "code",
        "colab": {}
      },
      "source": [
        "def calculate_accuracy(y_predicted,y_truth):\n",
        "  return np.sum(y_predicted ==y_truth,axis=0)/float(y_predicted.shape[0])  "
      ],
      "execution_count": null,
      "outputs": []
    },
    {
      "cell_type": "markdown",
      "metadata": {
        "id": "eJETzlFYelLl",
        "colab_type": "text"
      },
      "source": [
        "# **Task-1 MNIST Dataset** "
      ]
    },
    {
      "cell_type": "markdown",
      "metadata": {
        "colab_type": "text",
        "id": "8n74f_YefA4h"
      },
      "source": [
        "## **Importing MNIST Data**"
      ]
    },
    {
      "cell_type": "code",
      "metadata": {
        "colab_type": "code",
        "id": "uy-AmRujfA4r",
        "colab": {}
      },
      "source": [
        "import tensorflow as tf\n",
        "import matplotlib.pyplot as plt\n",
        "import numpy as np\n",
        "from tensorflow.keras.models  import Sequential\n",
        "\n",
        "mnist = tf.keras.datasets.mnist\n",
        "(train_images, train_labels), (test_images, test_labels) = mnist.load_data()\n",
        "train_images = (np.expand_dims(train_images, axis=-1)/255.).astype(np.float32)\n",
        "train_labels = (train_labels).astype(np.int64)\n",
        "test_images = (np.expand_dims(test_images, axis=-1)/255.).astype(np.float32)\n",
        "test_labels = (test_labels).astype(np.int64)"
      ],
      "execution_count": null,
      "outputs": []
    },
    {
      "cell_type": "markdown",
      "metadata": {
        "colab_type": "text",
        "id": "QzI5KdDZfA5A"
      },
      "source": [
        "## **Concatenate Training and Testing Data**"
      ]
    },
    {
      "cell_type": "code",
      "metadata": {
        "colab_type": "code",
        "id": "xXmx4b15fA5C",
        "colab": {
          "base_uri": "https://localhost:8080/",
          "height": 51
        },
        "outputId": "117426b6-9937-4cc4-bacf-e822181e7695"
      },
      "source": [
        "data_images=np.concatenate((train_images,test_images))\n",
        "print(data_images.shape)\n",
        "\n",
        "data_labels=np.concatenate((train_labels,test_labels))\n",
        "print(data_labels.shape)"
      ],
      "execution_count": null,
      "outputs": [
        {
          "output_type": "stream",
          "text": [
            "(70000, 28, 28, 1)\n",
            "(70000,)\n"
          ],
          "name": "stdout"
        }
      ]
    },
    {
      "cell_type": "markdown",
      "metadata": {
        "colab_type": "text",
        "id": "tXvvGWDDfA5K"
      },
      "source": [
        "## **Lets visualize some of the images from dataset.**"
      ]
    },
    {
      "cell_type": "code",
      "metadata": {
        "colab_type": "code",
        "id": "MZyZkpJSfA5N",
        "colab": {
          "base_uri": "https://localhost:8080/",
          "height": 462
        },
        "outputId": "a428b340-0ed1-4167-b714-a96b5ff46c41"
      },
      "source": [
        "plt.figure(figsize=(8,8))\n",
        "random_inds = np.random.choice(70000,20)\n",
        "for i in range(20):\n",
        "    plt.subplot(4,5,i+1)\n",
        "    plt.xticks([])\n",
        "    plt.yticks([])\n",
        "    plt.grid(False)\n",
        "    image_ind = random_inds[i]\n",
        "    plt.imshow(np.squeeze(data_images[image_ind]), cmap=plt.cm.binary)\n",
        "    plt.xlabel(data_labels[image_ind])"
      ],
      "execution_count": null,
      "outputs": [
        {
          "output_type": "display_data",
          "data": {
            "image/png": "[encoded data removed]",
            "text/plain": [
              "<Figure size 576x576 with 20 Axes>"
            ]
          },
          "metadata": {
            "tags": []
          }
        }
      ]
    },
    {
      "cell_type": "markdown",
      "metadata": {
        "id": "TozbF2Kwfewg",
        "colab_type": "text"
      },
      "source": [
        "## **Flattening Image Vectors to 1D (28X28 -> 784)**"
      ]
    },
    {
      "cell_type": "code",
      "metadata": {
        "id": "kRackK8zx4Ze",
        "colab_type": "code",
        "colab": {
          "base_uri": "https://localhost:8080/",
          "height": 34
        },
        "outputId": "65e7e9e6-9297-4524-fe71-054a33314047"
      },
      "source": [
        "data_images1 = tf.reshape(data_images,shape=[data_images.shape[0],784])\n",
        "print(\"Shape of data after flattening: \",data_images1.shape)"
      ],
      "execution_count": null,
      "outputs": [
        {
          "output_type": "stream",
          "text": [
            "Shape of data after flattening:  (70000, 784)\n"
          ],
          "name": "stdout"
        }
      ]
    },
    {
      "cell_type": "markdown",
      "metadata": {
        "id": "mfpDNMHLfdYH",
        "colab_type": "text"
      },
      "source": [
        "## **Splitting the Data into Train and Test Set**"
      ]
    },
    {
      "cell_type": "code",
      "metadata": {
        "id": "tUZaKBXT65ML",
        "colab_type": "code",
        "colab": {
          "base_uri": "https://localhost:8080/",
          "height": 51
        },
        "outputId": "19fe6389-ee36-4edc-8338-108a550a75fb"
      },
      "source": [
        "#test_size as 0.33\n",
        "dataset_size = data_images1.shape[0]\n",
        "trainset_size = math.floor(0.67*dataset_size)\n",
        "testset_size = dataset_size - trainset_size\n",
        "X_train,X_test = tf.split(data_images1,[trainset_size,testset_size],axis=0)\n",
        "y_train,y_test = tf.split(data_labels,[trainset_size,testset_size],axis=0)\n",
        "print(X_train.shape,X_test.shape)\n",
        "print(y_train.shape,y_test.shape)"
      ],
      "execution_count": null,
      "outputs": [
        {
          "output_type": "stream",
          "text": [
            "(46900, 784) (23100, 784)\n",
            "(46900,) (23100,)\n"
          ],
          "name": "stdout"
        }
      ]
    },
    {
      "cell_type": "markdown",
      "metadata": {
        "id": "TWfHg1mWPssY",
        "colab_type": "text"
      },
      "source": [
        "## **Defining the Model Parameters**"
      ]
    },
    {
      "cell_type": "code",
      "metadata": {
        "id": "mEJXd6x_7TZH",
        "colab_type": "code",
        "colab": {}
      },
      "source": [
        "hidden_layer1_size = 512\n",
        "hidden_layer2_size = 512\n",
        "hidden_layer3_size = 512\n",
        "input_size=784\n",
        "output_size=10\n",
        "batch_size = 469\n"
      ],
      "execution_count": null,
      "outputs": []
    },
    {
      "cell_type": "code",
      "metadata": {
        "id": "n2mgsCcOW0ti",
        "colab_type": "code",
        "colab": {}
      },
      "source": [
        "#function to do batchwise forward propagation with an instance of Neural network and other given\n",
        "# parameters.\n",
        "def batchwise_propagation(X_train,y_train,batch_size,NN,activation,activation_output):\n",
        "  y_pred_class = tf.constant([],dtype = tf.dtypes.int64)\n",
        "  i=0\n",
        "  for index, offset in enumerate(range(0,X_train.shape[0], batch_size)):\n",
        "    x_batch,y_batch = X_train[offset:offset+batch_size] , y_train[offset:offset+batch_size]\n",
        "    y_pred = NN.forward(x_batch,activation,activation_output)\n",
        "    y_pred = tf.math.argmax(y_pred,1)\n",
        "    y_pred_class = tf.concat([y_pred_class,y_pred],axis=0)\n",
        "    print(\"Accuracy on batch No.{};- \".format(i),calculate_accuracy(y_pred,y_batch))\n",
        "    i+=1  \n",
        "  print('----------------')\n",
        "  print(\"Final Accuracy: {}%\".format(calculate_accuracy(y_pred_class,y_train)*100))"
      ],
      "execution_count": null,
      "outputs": []
    },
    {
      "cell_type": "code",
      "metadata": {
        "id": "7P88MVpuUOAd",
        "colab_type": "code",
        "colab": {
          "base_uri": "https://localhost:8080/",
          "height": 1000
        },
        "outputId": "4b339599-b184-4196-d8ef-c67f41f6ba90"
      },
      "source": [
        "NN = NeuralNetwork(\n",
        "    batch_size=batch_size,\n",
        "    input_size=input_size,\n",
        "    hidden_layer1_size=hidden_layer1_size,\n",
        "    hidden_layer2_size=hidden_layer2_size,\n",
        "    hidden_layer3_size=hidden_layer3_size,\n",
        "    output_size=output_size\n",
        "    )\n",
        "# Perform forward propagation on the neural network model\n",
        "batchwise_propagation(X_train,y_train,NN,'relu','softmax')"
      ],
      "execution_count": null,
      "outputs": [
        {
          "output_type": "stream",
          "text": [
            "Accuracy on batch No.0;-  0.08315565031982942\n",
            "Accuracy on batch No.1;-  0.057569296375266525\n",
            "Accuracy on batch No.2;-  0.1023454157782516\n",
            "Accuracy on batch No.3;-  0.06823027718550106\n",
            "Accuracy on batch No.4;-  0.06396588486140725\n",
            "Accuracy on batch No.5;-  0.09594882729211088\n",
            "Accuracy on batch No.6;-  0.09381663113006397\n",
            "Accuracy on batch No.7;-  0.08528784648187633\n",
            "Accuracy on batch No.8;-  0.07889125799573561\n",
            "Accuracy on batch No.9;-  0.07462686567164178\n",
            "Accuracy on batch No.10;-  0.09594882729211088\n",
            "Accuracy on batch No.11;-  0.06183368869936034\n",
            "Accuracy on batch No.12;-  0.05970149253731343\n",
            "Accuracy on batch No.13;-  0.07249466950959488\n",
            "Accuracy on batch No.14;-  0.08528784648187633\n",
            "Accuracy on batch No.15;-  0.07036247334754797\n",
            "Accuracy on batch No.16;-  0.06396588486140725\n",
            "Accuracy on batch No.17;-  0.06396588486140725\n",
            "Accuracy on batch No.18;-  0.05970149253731343\n",
            "Accuracy on batch No.19;-  0.07462686567164178\n",
            "Accuracy on batch No.20;-  0.06183368869936034\n",
            "Accuracy on batch No.21;-  0.07036247334754797\n",
            "Accuracy on batch No.22;-  0.08955223880597014\n",
            "Accuracy on batch No.23;-  0.1044776119402985\n",
            "Accuracy on batch No.24;-  0.0767590618336887\n",
            "Accuracy on batch No.25;-  0.10021321961620469\n",
            "Accuracy on batch No.26;-  0.07889125799573561\n",
            "Accuracy on batch No.27;-  0.06183368869936034\n",
            "Accuracy on batch No.28;-  0.07036247334754797\n",
            "Accuracy on batch No.29;-  0.053304904051172705\n",
            "Accuracy on batch No.30;-  0.0767590618336887\n",
            "Accuracy on batch No.31;-  0.05970149253731343\n",
            "Accuracy on batch No.32;-  0.06609808102345416\n",
            "Accuracy on batch No.33;-  0.06396588486140725\n",
            "Accuracy on batch No.34;-  0.06823027718550106\n",
            "Accuracy on batch No.35;-  0.06823027718550106\n",
            "Accuracy on batch No.36;-  0.057569296375266525\n",
            "Accuracy on batch No.37;-  0.07036247334754797\n",
            "Accuracy on batch No.38;-  0.07249466950959488\n",
            "Accuracy on batch No.39;-  0.06609808102345416\n",
            "Accuracy on batch No.40;-  0.07462686567164178\n",
            "Accuracy on batch No.41;-  0.08955223880597014\n",
            "Accuracy on batch No.42;-  0.042643923240938165\n",
            "Accuracy on batch No.43;-  0.08102345415778252\n",
            "Accuracy on batch No.44;-  0.09381663113006397\n",
            "Accuracy on batch No.45;-  0.06396588486140725\n",
            "Accuracy on batch No.46;-  0.07889125799573561\n",
            "Accuracy on batch No.47;-  0.05970149253731343\n",
            "Accuracy on batch No.48;-  0.07462686567164178\n",
            "Accuracy on batch No.49;-  0.07249466950959488\n",
            "Accuracy on batch No.50;-  0.04904051172707889\n",
            "Accuracy on batch No.51;-  0.08742004264392324\n",
            "Accuracy on batch No.52;-  0.06183368869936034\n",
            "Accuracy on batch No.53;-  0.0767590618336887\n",
            "Accuracy on batch No.54;-  0.0511727078891258\n",
            "Accuracy on batch No.55;-  0.07462686567164178\n",
            "Accuracy on batch No.56;-  0.07889125799573561\n",
            "Accuracy on batch No.57;-  0.0767590618336887\n",
            "Accuracy on batch No.58;-  0.03837953091684435\n",
            "Accuracy on batch No.59;-  0.07249466950959488\n",
            "Accuracy on batch No.60;-  0.04477611940298507\n",
            "Accuracy on batch No.61;-  0.06183368869936034\n",
            "Accuracy on batch No.62;-  0.07462686567164178\n",
            "Accuracy on batch No.63;-  0.0767590618336887\n",
            "Accuracy on batch No.64;-  0.06183368869936034\n",
            "Accuracy on batch No.65;-  0.10021321961620469\n",
            "Accuracy on batch No.66;-  0.0767590618336887\n",
            "Accuracy on batch No.67;-  0.09808102345415778\n",
            "Accuracy on batch No.68;-  0.06609808102345416\n",
            "Accuracy on batch No.69;-  0.06823027718550106\n",
            "Accuracy on batch No.70;-  0.08528784648187633\n",
            "Accuracy on batch No.71;-  0.057569296375266525\n",
            "Accuracy on batch No.72;-  0.08955223880597014\n",
            "Accuracy on batch No.73;-  0.06609808102345416\n",
            "Accuracy on batch No.74;-  0.05970149253731343\n",
            "Accuracy on batch No.75;-  0.07249466950959488\n",
            "Accuracy on batch No.76;-  0.06823027718550106\n",
            "Accuracy on batch No.77;-  0.0767590618336887\n",
            "Accuracy on batch No.78;-  0.08742004264392324\n",
            "Accuracy on batch No.79;-  0.07462686567164178\n",
            "Accuracy on batch No.80;-  0.07036247334754797\n",
            "Accuracy on batch No.81;-  0.07249466950959488\n",
            "Accuracy on batch No.82;-  0.0511727078891258\n",
            "Accuracy on batch No.83;-  0.06396588486140725\n",
            "Accuracy on batch No.84;-  0.07249466950959488\n",
            "Accuracy on batch No.85;-  0.08315565031982942\n",
            "Accuracy on batch No.86;-  0.07889125799573561\n",
            "Accuracy on batch No.87;-  0.05543710021321962\n",
            "Accuracy on batch No.88;-  0.05970149253731343\n",
            "Accuracy on batch No.89;-  0.07889125799573561\n",
            "Accuracy on batch No.90;-  0.057569296375266525\n",
            "Accuracy on batch No.91;-  0.07462686567164178\n",
            "Accuracy on batch No.92;-  0.05543710021321962\n",
            "Accuracy on batch No.93;-  0.06823027718550106\n",
            "Accuracy on batch No.94;-  0.0767590618336887\n",
            "Accuracy on batch No.95;-  0.06823027718550106\n",
            "Accuracy on batch No.96;-  0.053304904051172705\n",
            "Accuracy on batch No.97;-  0.04904051172707889\n",
            "Accuracy on batch No.98;-  0.06396588486140725\n",
            "Accuracy on batch No.99;-  0.05970149253731343\n",
            "----------------\n",
            "Final Accuracy: 7.127931769722815%\n"
          ],
          "name": "stdout"
        }
      ]
    },
    {
      "cell_type": "markdown",
      "metadata": {
        "id": "9-9jPBBzaHZB",
        "colab_type": "text"
      },
      "source": [
        "## **1.Experimentation with different batch size.**"
      ]
    },
    {
      "cell_type": "code",
      "metadata": {
        "id": "NqtU23OlZ9p5",
        "colab_type": "code",
        "colab": {
          "base_uri": "https://localhost:8080/",
          "height": 289
        },
        "outputId": "32ea8bab-10e6-415b-c174-ff1fdc66aa5b"
      },
      "source": [
        "# Different Batch sizes\n",
        "hidden_layer1_size = 512\n",
        "hidden_layer2_size = 256\n",
        "hidden_layer3_size = 128\n",
        "input_size=784\n",
        "output_size=10\n",
        "batch_size = [469,2345,4690,9380]\n",
        "for batch in batch_size:\n",
        "  NN = NeuralNetwork(\n",
        "    batch_size=batch,\n",
        "    input_size=input_size,\n",
        "    hidden_layer1_size=hidden_layer1_size,\n",
        "    hidden_layer2_size=hidden_layer2_size,\n",
        "    hidden_layer3_size=hidden_layer3_size,\n",
        "    output_size=output_size\n",
        "    )\n",
        "  print(\"Accuracy for batch value {}:\".format(batch))\n",
        "  batchwise_propagation(X_train,y_train,batch,NN,'relu','softmax')\n",
        "  print()\n"
      ],
      "execution_count": null,
      "outputs": [
        {
          "output_type": "stream",
          "text": [
            "Accuracy for batch value 469:\n",
            "----------------\n",
            "Final Accuracy: 11.686567164179104%\n",
            "\n",
            "Accuracy for batch value 2345:\n",
            "----------------\n",
            "Final Accuracy: 11.656716417910449%\n",
            "\n",
            "Accuracy for batch value 4690:\n",
            "----------------\n",
            "Final Accuracy: 11.554371002132196%\n",
            "\n",
            "Accuracy for batch value 9380:\n",
            "----------------\n",
            "Final Accuracy: 11.673773987206824%\n",
            "\n"
          ],
          "name": "stdout"
        }
      ]
    },
    {
      "cell_type": "markdown",
      "metadata": {
        "id": "Fzri5qVWZ2y2",
        "colab_type": "text"
      },
      "source": [
        "### **Remark: Accuracy is near constant.**"
      ]
    },
    {
      "cell_type": "markdown",
      "metadata": {
        "id": "k3tkro9UYaZf",
        "colab_type": "text"
      },
      "source": [
        "## **2.Experimentation with different activation functions.**"
      ]
    },
    {
      "cell_type": "code",
      "metadata": {
        "id": "9gSutPrZYSyf",
        "colab_type": "code",
        "colab": {
          "base_uri": "https://localhost:8080/",
          "height": 833
        },
        "outputId": "fb2d0627-4f43-4e01-c967-2b03c9f202af"
      },
      "source": [
        "# Different Batch sizes\n",
        "hidden_layer1_size = 512\n",
        "hidden_layer2_size = 256\n",
        "hidden_layer3_size = 128\n",
        "input_size=784\n",
        "output_size=10\n",
        "batch_size = 4690\n",
        "activation_types = ['relu','sigmoid','softmax','tanh']\n",
        "activation_vector_types = ['sigmoid','softmax','tanh']\n",
        "for activation in activation_types:\n",
        "  for activation_output in activation_vector_types:\n",
        "    NN = NeuralNetwork(\n",
        "      batch_size=batch,\n",
        "      input_size=input_size,\n",
        "      hidden_layer1_size=hidden_layer1_size,\n",
        "      hidden_layer2_size=hidden_layer2_size,\n",
        "      hidden_layer3_size=hidden_layer3_size,\n",
        "      output_size=output_size\n",
        "      )\n",
        "    print(\"Accuracy for activation hidden {} & output {} :\".format(activation,activation_output))\n",
        "    batchwise_propagation(X_train,y_train,batch,NN,activation,activation_output)\n",
        "    print('----------------------------------')\n"
      ],
      "execution_count": null,
      "outputs": [
        {
          "output_type": "stream",
          "text": [
            "Accuracy for activation hidden relu & output sigmoid :\n",
            "----------------\n",
            "Final Accuracy: 12.748400852878463%\n",
            "----------------------------------\n",
            "Accuracy for activation hidden relu & output softmax :\n",
            "----------------\n",
            "Final Accuracy: 11.673773987206824%\n",
            "----------------------------------\n",
            "Accuracy for activation hidden relu & output tanh :\n",
            "----------------\n",
            "Final Accuracy: 12.742004264392323%\n",
            "----------------------------------\n",
            "Accuracy for activation hidden sigmoid & output sigmoid :\n",
            "----------------\n",
            "Final Accuracy: 13.247334754797441%\n",
            "----------------------------------\n",
            "Accuracy for activation hidden sigmoid & output softmax :\n",
            "----------------\n",
            "Final Accuracy: 13.247334754797441%\n",
            "----------------------------------\n",
            "Accuracy for activation hidden sigmoid & output tanh :\n",
            "----------------\n",
            "Final Accuracy: 13.503198294243072%\n",
            "----------------------------------\n",
            "Accuracy for activation hidden softmax & output sigmoid :\n",
            "----------------\n",
            "Final Accuracy: 9.895522388059701%\n",
            "----------------------------------\n",
            "Accuracy for activation hidden softmax & output softmax :\n",
            "----------------\n",
            "Final Accuracy: 9.895522388059701%\n",
            "----------------------------------\n",
            "Accuracy for activation hidden softmax & output tanh :\n",
            "----------------\n",
            "Final Accuracy: 9.895522388059701%\n",
            "----------------------------------\n",
            "Accuracy for activation hidden tanh & output sigmoid :\n",
            "----------------\n",
            "Final Accuracy: 10.688699360341152%\n",
            "----------------------------------\n",
            "Accuracy for activation hidden tanh & output softmax :\n",
            "----------------\n",
            "Final Accuracy: 10.417910447761194%\n",
            "----------------------------------\n",
            "Accuracy for activation hidden tanh & output tanh :\n",
            "----------------\n",
            "Final Accuracy: 10.857142857142858%\n",
            "----------------------------------\n"
          ],
          "name": "stdout"
        }
      ]
    },
    {
      "cell_type": "markdown",
      "metadata": {
        "id": "etA4oS4IZoRA",
        "colab_type": "text"
      },
      "source": [
        "### **Remark: Accuracy is maximum for hidden activation as sigmoid and output as tanh**"
      ]
    },
    {
      "cell_type": "markdown",
      "metadata": {
        "id": "MA6X4twAfvDs",
        "colab_type": "text"
      },
      "source": [
        "## **3.Experimentation with different hidden layer sizes.**"
      ]
    },
    {
      "cell_type": "code",
      "metadata": {
        "id": "qtzaXH_taHse",
        "colab_type": "code",
        "colab": {
          "base_uri": "https://localhost:8080/",
          "height": 1000
        },
        "outputId": "ad1e6475-d985-4cf7-b573-fc8f6348a927"
      },
      "source": [
        "# Different Batch sizes\n",
        "hidden_layer1_size = [512,256,125]\n",
        "hidden_layer2_size = [512,256,128]\n",
        "hidden_layer3_size = [512,256,128,64]\n",
        "input_size=784\n",
        "output_size=10\n",
        "batch_size = 4690\n",
        "for h1 in hidden_layer1_size:\n",
        "  for h2 in hidden_layer2_size:\n",
        "    for h3 in hidden_layer3_size:\n",
        "      NN = NeuralNetwork(\n",
        "        batch_size=batch,\n",
        "        input_size=input_size,\n",
        "        hidden_layer1_size=h1,\n",
        "        hidden_layer2_size=h2,\n",
        "        hidden_layer3_size=h3,\n",
        "        output_size=output_size\n",
        "        )\n",
        "      print(\"Accuracy for hidden layer sizes are {}, {}, {}:\".format(h1,h2,h3))\n",
        "      batchwise_propagation(X_train,y_train,batch,NN,'relu','softmax')\n",
        "    print('----------')\n",
        "  print('-------------')\n"
      ],
      "execution_count": null,
      "outputs": [
        {
          "output_type": "stream",
          "text": [
            "Accuracy for hidden layer sizes are 512, 512, 512:\n",
            "Final Accuracy: 7.051172707889126%\n",
            "Accuracy for hidden layer sizes are 512, 512, 256:\n",
            "Final Accuracy: 11.901918976545842%\n",
            "Accuracy for hidden layer sizes are 512, 512, 128:\n",
            "Final Accuracy: 12.92324093816631%\n",
            "Accuracy for hidden layer sizes are 512, 512, 64:\n",
            "Final Accuracy: 13.599147121535182%\n",
            "----------\n",
            "Accuracy for hidden layer sizes are 512, 256, 512:\n",
            "Final Accuracy: 14.982942430703625%\n",
            "Accuracy for hidden layer sizes are 512, 256, 256:\n",
            "Final Accuracy: 10.00639658848614%\n",
            "Accuracy for hidden layer sizes are 512, 256, 128:\n",
            "Final Accuracy: 11.673773987206824%\n",
            "Accuracy for hidden layer sizes are 512, 256, 64:\n",
            "Final Accuracy: 9.671641791044776%\n",
            "----------\n",
            "Accuracy for hidden layer sizes are 512, 128, 512:\n",
            "Final Accuracy: 13.466950959488273%\n",
            "Accuracy for hidden layer sizes are 512, 128, 256:\n",
            "Final Accuracy: 10.639658848614072%\n",
            "Accuracy for hidden layer sizes are 512, 128, 128:\n",
            "Final Accuracy: 9.49040511727079%\n",
            "Accuracy for hidden layer sizes are 512, 128, 64:\n",
            "Final Accuracy: 10.5863539445629%\n",
            "----------\n",
            "-------------\n",
            "Accuracy for hidden layer sizes are 256, 512, 512:\n",
            "Final Accuracy: 7.948827292110875%\n",
            "Accuracy for hidden layer sizes are 256, 512, 256:\n",
            "Final Accuracy: 12.18550106609808%\n",
            "Accuracy for hidden layer sizes are 256, 512, 128:\n",
            "Final Accuracy: 11.793176972281449%\n",
            "Accuracy for hidden layer sizes are 256, 512, 64:\n",
            "Final Accuracy: 9.955223880597016%\n",
            "----------\n",
            "Accuracy for hidden layer sizes are 256, 256, 512:\n",
            "Final Accuracy: 12.565031982942433%\n",
            "Accuracy for hidden layer sizes are 256, 256, 256:\n",
            "Final Accuracy: 9.074626865671643%\n",
            "Accuracy for hidden layer sizes are 256, 256, 128:\n",
            "Final Accuracy: 9.411513859275052%\n",
            "Accuracy for hidden layer sizes are 256, 256, 64:\n",
            "Final Accuracy: 10.200426439232409%\n",
            "----------\n",
            "Accuracy for hidden layer sizes are 256, 128, 512:\n",
            "Final Accuracy: 11.202558635394457%\n",
            "Accuracy for hidden layer sizes are 256, 128, 256:\n",
            "Final Accuracy: 12.565031982942433%\n",
            "Accuracy for hidden layer sizes are 256, 128, 128:\n",
            "Final Accuracy: 10.620469083155651%\n",
            "Accuracy for hidden layer sizes are 256, 128, 64:\n",
            "Final Accuracy: 10.215351812366738%\n",
            "----------\n",
            "-------------\n",
            "Accuracy for hidden layer sizes are 125, 512, 512:\n",
            "Final Accuracy: 10.157782515991471%\n",
            "Accuracy for hidden layer sizes are 125, 512, 256:\n",
            "Final Accuracy: 10.147121535181236%\n",
            "Accuracy for hidden layer sizes are 125, 512, 128:\n",
            "Final Accuracy: 8.083155650319828%\n",
            "Accuracy for hidden layer sizes are 125, 512, 64:\n",
            "Final Accuracy: 10.085287846481876%\n",
            "----------\n",
            "Accuracy for hidden layer sizes are 125, 256, 512:\n",
            "Final Accuracy: 5.277185501066098%\n",
            "Accuracy for hidden layer sizes are 125, 256, 256:\n",
            "Final Accuracy: 7.8976545842217485%\n",
            "Accuracy for hidden layer sizes are 125, 256, 128:\n",
            "Final Accuracy: 8.202558635394457%\n",
            "Accuracy for hidden layer sizes are 125, 256, 64:\n",
            "Final Accuracy: 10.194029850746269%\n",
            "----------\n",
            "Accuracy for hidden layer sizes are 125, 128, 512:\n",
            "Final Accuracy: 9.590618336886994%\n",
            "Accuracy for hidden layer sizes are 125, 128, 256:\n",
            "Final Accuracy: 11.539445628997868%\n",
            "Accuracy for hidden layer sizes are 125, 128, 128:\n",
            "Final Accuracy: 12.176972281449894%\n",
            "Accuracy for hidden layer sizes are 125, 128, 64:\n",
            "Final Accuracy: 10.541577825159914%\n",
            "----------\n",
            "-------------\n"
          ],
          "name": "stdout"
        }
      ]
    },
    {
      "cell_type": "code",
      "metadata": {
        "id": "BALZUXvtz5s9",
        "colab_type": "code",
        "colab": {
          "base_uri": "https://localhost:8080/",
          "height": 610
        },
        "outputId": "88269080-d0e9-4613-b81a-a7e776cd0e9b"
      },
      "source": [
        "hidden_layer1_size = 512\n",
        "hidden_layer2_size = 512\n",
        "hidden_layer3_size = 512\n",
        "input_size=784\n",
        "output_size=10\n",
        "batch_size = 469\n",
        "NN = NeuralNetwork(\n",
        "    batch_size=batch_size,\n",
        "    input_size=input_size,\n",
        "    hidden_layer1_size=hidden_layer1_size,\n",
        "    hidden_layer2_size=hidden_layer2_size,\n",
        "    hidden_layer3_size=hidden_layer3_size,\n",
        "    output_size=output_size\n",
        "    )\n",
        "y_pred_class = tf.constant([],dtype = tf.dtypes.int64)\n",
        "  # i=0\n",
        "for index, offset in enumerate(range(0,X_train.shape[0], batch_size)):\n",
        "  x_batch,y_batch = X_train[offset:offset+batch_size] , y_train[offset:offset+batch_size]\n",
        "  y_pred = NN.forward(x_batch,activation,activation_output)\n",
        "  y_pred = tf.math.argmax(y_pred,1)\n",
        "  y_pred_class = tf.concat([y_pred_class,y_pred],axis=0)\n",
        "\n",
        "#create a confusion matrix\n",
        "cf_matrix = confusion_matrix(y_pred_class,y_train)\n",
        "plt.subplots(figsize= (10,10))\n",
        "sns.heatmap(cf_matrix,annot=True)"
      ],
      "execution_count": null,
      "outputs": [
        {
          "output_type": "execute_result",
          "data": {
            "text/plain": [
              "<matplotlib.axes._subplots.AxesSubplot at 0x7f7084d9bef0>"
            ]
          },
          "metadata": {
            "tags": []
          },
          "execution_count": 254
        },
        {
          "output_type": "display_data",
          "data": {
            "image/png": "[encoded data removed]",
            "text/plain": [
              "<Figure size 720x720 with 2 Axes>"
            ]
          },
          "metadata": {
            "tags": [],
            "needs_background": "light"
          }
        }
      ]
    },
    {
      "cell_type": "markdown",
      "metadata": {
        "id": "ES4m1RrMcxAK",
        "colab_type": "text"
      },
      "source": [
        "## **Conclusion**\n",
        "**1. Relu & sigmoid function are good for hidden activation function. Also, sigmoid & tanh are better for output activation.**\n",
        "\n",
        "**2. As batch size changes, accuracy remains near constant as we are not training the model.**\n",
        "\n",
        "**3. For different hidden layer sizes, maxmimum accuracy is 14.98% for (512,256,512).**"
      ]
    },
    {
      "cell_type": "markdown",
      "metadata": {
        "id": "hYQBMPjT0OTn",
        "colab_type": "text"
      },
      "source": [
        "**--------------------------------------------------------------------------------------------------------------------------------------------**"
      ]
    },
    {
      "cell_type": "markdown",
      "metadata": {
        "id": "JkMDOsSlNQhX",
        "colab_type": "text"
      },
      "source": [
        "# **Task- 2 Boston House Pricing Dataset**\n",
        "\n",
        "\n"
      ]
    },
    {
      "cell_type": "code",
      "metadata": {
        "id": "2-IFfWcMNUk_",
        "colab_type": "code",
        "colab": {}
      },
      "source": [
        "from keras.datasets import boston_housing\n",
        "(X_train, y_train), (X_test, y_test) = boston_housing.load_data()"
      ],
      "execution_count": null,
      "outputs": []
    },
    {
      "cell_type": "code",
      "metadata": {
        "id": "UTyWnrfAcVxm",
        "colab_type": "code",
        "colab": {
          "base_uri": "https://localhost:8080/",
          "height": 255
        },
        "outputId": "0581105f-5106-4d8d-f35c-ccf061c2f61a"
      },
      "source": [
        "# y_train[0]\n",
        "X_train = tf.cast(tf.convert_to_tensor(X_train),dtype=tf.float32)\n",
        "y_train = tf.cast(tf.convert_to_tensor(y_train),dtype=tf.float32)\n",
        "X_train"
      ],
      "execution_count": null,
      "outputs": [
        {
          "output_type": "execute_result",
          "data": {
            "text/plain": [
              "<tf.Tensor: shape=(404, 13), dtype=float32, numpy=\n",
              "array([[1.23247e+00, 0.00000e+00, 8.14000e+00, ..., 2.10000e+01,\n",
              "        3.96900e+02, 1.87200e+01],\n",
              "       [2.17700e-02, 8.25000e+01, 2.03000e+00, ..., 1.47000e+01,\n",
              "        3.95380e+02, 3.11000e+00],\n",
              "       [4.89822e+00, 0.00000e+00, 1.81000e+01, ..., 2.02000e+01,\n",
              "        3.75520e+02, 3.26000e+00],\n",
              "       ...,\n",
              "       [3.46600e-02, 3.50000e+01, 6.06000e+00, ..., 1.69000e+01,\n",
              "        3.62250e+02, 7.83000e+00],\n",
              "       [2.14918e+00, 0.00000e+00, 1.95800e+01, ..., 1.47000e+01,\n",
              "        2.61950e+02, 1.57900e+01],\n",
              "       [1.43900e-02, 6.00000e+01, 2.93000e+00, ..., 1.56000e+01,\n",
              "        3.76700e+02, 4.38000e+00]], dtype=float32)>"
            ]
          },
          "metadata": {
            "tags": []
          },
          "execution_count": 133
        }
      ]
    },
    {
      "cell_type": "markdown",
      "metadata": {
        "id": "AxiLBnd0dCHN",
        "colab_type": "text"
      },
      "source": [
        "## **MSE Error**"
      ]
    },
    {
      "cell_type": "code",
      "metadata": {
        "id": "m616JMSLdBv5",
        "colab_type": "code",
        "colab": {}
      },
      "source": [
        "def calculate_mse_error(y_pred,y_true):\n",
        "  y_pred = tf.reshape(y_pred,shape=[y_pred.shape[0],1])\n",
        "  y_true = tf.reshape(y_true,shape=[y_true.shape[0],1])\n",
        "  error = tf.math.subtract(y_pred,y_true)\n",
        "  mse = tf.math.reduce_sum(tf.math.multiply(error,error)/y_pred.shape[0])\n",
        "  return mse"
      ],
      "execution_count": null,
      "outputs": []
    },
    {
      "cell_type": "markdown",
      "metadata": {
        "id": "CCRDYlEAdBfw",
        "colab_type": "text"
      },
      "source": [
        "## **Forward Propagation**"
      ]
    },
    {
      "cell_type": "code",
      "metadata": {
        "id": "qbyxB9C_dCWZ",
        "colab_type": "code",
        "colab": {}
      },
      "source": [
        "#function to do batchwise forward propagation with an instance of Neural network and other given\n",
        "# parameters.\n",
        "def batchwise_propagation_regression(X_train,y_train,batch_size,NN,activation,activation_output):\n",
        "  y_predicted = tf.constant([],dtype = tf.dtypes.float32)\n",
        "  i=0\n",
        "  for index, offset in enumerate(range(0,X_train.shape[0], batch_size)):\n",
        "    x_batch,y_batch = X_train[offset:offset+batch_size] , y_train[offset:offset+batch_size]\n",
        "    y_pred = NN.forward(x_batch,activation,activation_output)\n",
        "    y_predicted = tf.concat([y_predicted,y_pred[:,0]],axis=0)\n",
        "    # print(\"Mean Square error for batch {} is: \".format(i),calculate_mse_error(y_pred,y_batch))\n",
        "    i+=1  \n",
        "  print(\"Mean Square error is: {}.\".format(calculate_mse_error(y_predicted,y_train)))\n",
        "  print('----------------')"
      ],
      "execution_count": null,
      "outputs": []
    },
    {
      "cell_type": "code",
      "metadata": {
        "id": "C1wcbt7CgZYT",
        "colab_type": "code",
        "colab": {
          "base_uri": "https://localhost:8080/",
          "height": 119
        },
        "outputId": "7db46e81-c583-4c9c-d4c1-e955da12847b"
      },
      "source": [
        "hidden_layer1_size = 10\n",
        "hidden_layer2_size = 5\n",
        "hidden_layer3_size = 5\n",
        "input_size=13\n",
        "output_size=1\n",
        "batch_size = 101\n",
        "RegressionModel = NeuralNetwork(\n",
        "    batch_size=batch_size,\n",
        "    input_size=input_size,\n",
        "    hidden_layer1_size=hidden_layer1_size,\n",
        "    hidden_layer2_size=hidden_layer2_size,\n",
        "    hidden_layer3_size=hidden_layer3_size,\n",
        "    output_size=output_size\n",
        "    )\n",
        "# Perform forward propagation on the neural network model\n",
        "batchwise_propagation_regression(X_train,y_train,batch_size,RegressionModel,'relu','relu')"
      ],
      "execution_count": null,
      "outputs": [
        {
          "output_type": "stream",
          "text": [
            "Mean Square error for batch 0 is:  tf.Tensor(17158.236, shape=(), dtype=float32)\n",
            "Mean Square error for batch 1 is:  tf.Tensor(15438.244, shape=(), dtype=float32)\n",
            "Mean Square error for batch 2 is:  tf.Tensor(14346.143, shape=(), dtype=float32)\n",
            "Mean Square error for batch 3 is:  tf.Tensor(8154.5015, shape=(), dtype=float32)\n",
            "Mean Square error is: 13774.28125.\n",
            "----------------\n"
          ],
          "name": "stdout"
        }
      ]
    },
    {
      "cell_type": "markdown",
      "metadata": {
        "colab_type": "text",
        "id": "YrUxZ2V8xKqo"
      },
      "source": [
        "## **Experimentation with different activation functions.**"
      ]
    },
    {
      "cell_type": "code",
      "metadata": {
        "colab_type": "code",
        "id": "HxVTT1MIxKqu",
        "colab": {
          "base_uri": "https://localhost:8080/",
          "height": 493
        },
        "outputId": "2768c0e2-83c3-4393-bed0-0f4353040627"
      },
      "source": [
        "hidden_layer1_size = 10\n",
        "hidden_layer2_size = 5\n",
        "hidden_layer3_size = 5\n",
        "input_size=13\n",
        "output_size=1\n",
        "batch_size = 101\n",
        "RegressionModel = NeuralNetwork(\n",
        "    batch_size=batch_size,\n",
        "    input_size=input_size,\n",
        "    hidden_layer1_size=hidden_layer1_size,\n",
        "    hidden_layer2_size=hidden_layer2_size,\n",
        "    hidden_layer3_size=hidden_layer3_size,\n",
        "    output_size=output_size\n",
        "    )\n",
        "# Perform forward propagation on the neural network model\n",
        "activation_types = ['relu','sigmoid','softmax','tanh']\n",
        "for activation in activation_types:\n",
        "  print(\"Result for hidden activation {} is: \".format(activation))\n",
        "  batchwise_propagation_regression(X_train,y_train,batch_size,RegressionModel,activation,'relu')"
      ],
      "execution_count": null,
      "outputs": [
        {
          "output_type": "stream",
          "text": [
            "Result for hidden activation relu is: \n",
            "Mean Square error for batch 0 is:  tf.Tensor(17158.236, shape=(), dtype=float32)\n",
            "Mean Square error for batch 1 is:  tf.Tensor(15438.244, shape=(), dtype=float32)\n",
            "Mean Square error for batch 2 is:  tf.Tensor(14346.143, shape=(), dtype=float32)\n",
            "Mean Square error for batch 3 is:  tf.Tensor(8154.5015, shape=(), dtype=float32)\n",
            "Mean Square error is: 13774.28125.\n",
            "----------------\n",
            "Result for hidden activation sigmoid is: \n",
            "Mean Square error for batch 0 is:  tf.Tensor(555.729, shape=(), dtype=float32)\n",
            "Mean Square error for batch 1 is:  tf.Tensor(536.39136, shape=(), dtype=float32)\n",
            "Mean Square error for batch 2 is:  tf.Tensor(504.12607, shape=(), dtype=float32)\n",
            "Mean Square error for batch 3 is:  tf.Tensor(668.13916, shape=(), dtype=float32)\n",
            "Mean Square error is: 566.0963745117188.\n",
            "----------------\n",
            "Result for hidden activation softmax is: \n",
            "Mean Square error for batch 0 is:  tf.Tensor(557.4329, shape=(), dtype=float32)\n",
            "Mean Square error for batch 1 is:  tf.Tensor(537.8109, shape=(), dtype=float32)\n",
            "Mean Square error for batch 2 is:  tf.Tensor(505.67014, shape=(), dtype=float32)\n",
            "Mean Square error for batch 3 is:  tf.Tensor(670.3157, shape=(), dtype=float32)\n",
            "Mean Square error is: 567.807373046875.\n",
            "----------------\n",
            "Result for hidden activation tanh is: \n",
            "Mean Square error for batch 0 is:  tf.Tensor(570.7893, shape=(), dtype=float32)\n",
            "Mean Square error for batch 1 is:  tf.Tensor(554.408, shape=(), dtype=float32)\n",
            "Mean Square error for batch 2 is:  tf.Tensor(520.34735, shape=(), dtype=float32)\n",
            "Mean Square error for batch 3 is:  tf.Tensor(688.41547, shape=(), dtype=float32)\n",
            "Mean Square error is: 583.4900512695312.\n",
            "----------------\n"
          ],
          "name": "stdout"
        }
      ]
    },
    {
      "cell_type": "markdown",
      "metadata": {
        "id": "xinpFZzLyCey",
        "colab_type": "text"
      },
      "source": [
        "## **Experimentation with different hidden layer sizes.**"
      ]
    },
    {
      "cell_type": "code",
      "metadata": {
        "id": "L1A6lYZqIeBr",
        "colab_type": "code",
        "colab": {
          "base_uri": "https://localhost:8080/",
          "height": 425
        },
        "outputId": "2c812085-9cea-4e3f-a9d4-07bf48a421d3"
      },
      "source": [
        "hidden_layer1_size = [10,7]\n",
        "hidden_layer2_size = [7,5]\n",
        "hidden_layer3_size = [5,4]\n",
        "input_size=13\n",
        "output_size=1\n",
        "batch_size = 101\n",
        "\n",
        "# Perform forward propagation on the neural network model\n",
        "for h1 in hidden_layer1_size:\n",
        "  for h2 in hidden_layer2_size:\n",
        "    for h3 in hidden_layer3_size:\n",
        "      RegressionModel = NeuralNetwork(\n",
        "          batch_size=batch_size,\n",
        "          input_size=input_size,\n",
        "          hidden_layer1_size=h1,\n",
        "          hidden_layer2_size=h2,\n",
        "          hidden_layer3_size=h3,\n",
        "          output_size=output_size\n",
        "          )\n",
        "      print(\"Result for hidden layer size ({},{},{}) is: \".format(h1,h2,h3))\n",
        "      batchwise_propagation_regression(X_train,y_train,batch_size,RegressionModel,activation,'relu')"
      ],
      "execution_count": null,
      "outputs": [
        {
          "output_type": "stream",
          "text": [
            "Result for hidden layer size (10,7,5) is: \n",
            "Mean Square error is: 544.0216064453125.\n",
            "----------------\n",
            "Result for hidden layer size (10,7,4) is: \n",
            "Mean Square error is: 567.9602661132812.\n",
            "----------------\n",
            "Result for hidden layer size (10,5,5) is: \n",
            "Mean Square error is: 583.4900512695312.\n",
            "----------------\n",
            "Result for hidden layer size (10,5,4) is: \n",
            "Mean Square error is: 577.3900756835938.\n",
            "----------------\n",
            "Result for hidden layer size (7,7,5) is: \n",
            "Mean Square error is: 544.821044921875.\n",
            "----------------\n",
            "Result for hidden layer size (7,7,4) is: \n",
            "Mean Square error is: 540.4331665039062.\n",
            "----------------\n",
            "Result for hidden layer size (7,5,5) is: \n",
            "Mean Square error is: 565.9102783203125.\n",
            "----------------\n",
            "Result for hidden layer size (7,5,4) is: \n",
            "Mean Square error is: 569.4054565429688.\n",
            "----------------\n"
          ],
          "name": "stdout"
        }
      ]
    },
    {
      "cell_type": "markdown",
      "metadata": {
        "id": "UrOg4iLRzaEL",
        "colab_type": "text"
      },
      "source": [
        "### **Remark: MSE is lowest for hidden layer sizes as (10,7,5).**"
      ]
    },
    {
      "cell_type": "markdown",
      "metadata": {
        "id": "XwOSsMW529kq",
        "colab_type": "text"
      },
      "source": [
        "**-------------------------------------------------------------------The End---------------------------------------------------------------------**"
      ]
    }
  ]
}
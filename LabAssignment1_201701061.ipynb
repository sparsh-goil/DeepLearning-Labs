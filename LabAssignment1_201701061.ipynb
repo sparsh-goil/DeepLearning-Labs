{
  "nbformat": 4,
  "nbformat_minor": 0,
  "metadata": {
    "colab": {
      "name": "LabAssignment1_201701061.ipynb",
      "provenance": [],
      "collapsed_sections": [],
      "authorship_tag": "ABX9TyP6NfqcM6fLM8Tyy14GE2RS",
      "include_colab_link": true
    },
    "kernelspec": {
      "name": "python3",
      "display_name": "Python 3"
    }
  },
  "cells": [
    {
      "cell_type": "markdown",
      "metadata": {
        "id": "view-in-github",
        "colab_type": "text"
      },
      "source": [
        "<a href=\"https://colab.research.google.com/github/sparsh-goil/DeepLearning-Labs/blob/master/LabAssignment1_201701061.ipynb\" target=\"_parent\"><img src=\"https://colab.research.google.com/assets/colab-badge.svg\" alt=\"Open In Colab\"/></a>"
      ]
    },
    {
      "cell_type": "markdown",
      "metadata": {
        "id": "eNpwYjXDJRwz",
        "colab_type": "text"
      },
      "source": [
        "# **Assignment 1 : Working with Tensorflow 2.0**\n",
        "### **Submitted By- 201701061**"
      ]
    },
    {
      "cell_type": "code",
      "metadata": {
        "id": "CNcntHzb4slk",
        "colab_type": "code",
        "colab": {}
      },
      "source": [
        "import tensorflow as tf\n",
        "import math as m"
      ],
      "execution_count": null,
      "outputs": []
    },
    {
      "cell_type": "markdown",
      "metadata": {
        "id": "PUPhVshJF_Q5",
        "colab_type": "text"
      },
      "source": [
        "# **1. Series-1**"
      ]
    },
    {
      "cell_type": "code",
      "metadata": {
        "id": "y5VFd19u6Hao",
        "colab_type": "code",
        "colab": {}
      },
      "source": [
        "def series1(n,x):\n",
        "  '''\n",
        "  function for Question-1 series formula in the assignment.\n",
        "  @args\" n- denotes the number of terms in the series. eg. 20,50 or 100. x- denotes the n-dimensional tensor and range of values in x is (0,pi).\n",
        "  @returns - fx denotes the f(x) of each value of the corresponding arguement x in the function.\n",
        "  '''\n",
        "  fx=tf.ones(x.shape)\n",
        "  for itr in range(2,n+2):\n",
        "    fx -= ((1 + pow(-1,itr))*tf.math.cos(itr*x))/(m.pow(itr,2) + 1.0)\n",
        "  fx = fx*(2/m.pi)\n",
        "  return fx"
      ],
      "execution_count": null,
      "outputs": []
    },
    {
      "cell_type": "code",
      "metadata": {
        "id": "eRaMrBhrBlKY",
        "colab_type": "code",
        "colab": {
          "base_uri": "https://localhost:8080/",
          "height": 153
        },
        "outputId": "24e43f99-0c04-40a7-fa27-240bd5375882"
      },
      "source": [
        "#Observations\n",
        "# x=0.25 & 0.5\n",
        "print(\"Observation 1: for n=20\")\n",
        "print(series1(20,tf.constant([0.25,0.5])),\"\\n----------\")\n",
        "print(\"Observation 2: for n=50\")\n",
        "print(series1(50,tf.constant([0.25,0.5])),\"\\n----------\")\n",
        "print(\"Observation 3: for n=100\")\n",
        "print(series1(100,tf.constant([0.25,0.5])))"
      ],
      "execution_count": null,
      "outputs": [
        {
          "output_type": "stream",
          "text": [
            "Observation 1: for n=20\n",
            "tf.Tensor([0.40640435 0.5671469 ], shape=(2,), dtype=float32) \n",
            "----------\n",
            "Observation 2: for n=50\n",
            "tf.Tensor([0.4012348 0.5647007], shape=(2,), dtype=float32) \n",
            "----------\n",
            "Observation 3: for n=100\n",
            "tf.Tensor([0.4012595 0.5648231], shape=(2,), dtype=float32)\n"
          ],
          "name": "stdout"
        }
      ]
    },
    {
      "cell_type": "markdown",
      "metadata": {
        "id": "RZgyorQ8GIVD",
        "colab_type": "text"
      },
      "source": [
        "# **2. Mclaurin series**"
      ]
    },
    {
      "cell_type": "code",
      "metadata": {
        "id": "oXHOolkoC5IR",
        "colab_type": "code",
        "colab": {}
      },
      "source": [
        "def mclaurin(n,x):\n",
        "  \"\"\"\n",
        "  @args: n-denotes the number of terms in the series & x-denotes the n-dimensional tensor and range of values is (0,1).\n",
        "  @returns : values of fx denotes the f(x) for Mclauran series corresponding to each element in the x tensor.\n",
        "  \"\"\"\n",
        "  fx=tf.zeros(x.shape)\n",
        "  for itr in range(0,n):\n",
        "    fx += (pow(-1,itr)*tf.math.pow(x,2*itr*tf.ones(x.shape)))/m.factorial(2*itr)\n",
        "  return fx"
      ],
      "execution_count": null,
      "outputs": []
    },
    {
      "cell_type": "code",
      "metadata": {
        "id": "L3z-KJFUFEYc",
        "colab_type": "code",
        "colab": {
          "base_uri": "https://localhost:8080/",
          "height": 153
        },
        "outputId": "7fcf5289-f92e-4de9-e55e-3f6c7011e393"
      },
      "source": [
        "#Observations\n",
        "# x=0.25 & 0.5\n",
        "print(\"Observation 1: for n=2\")\n",
        "print(mclaurin(2,tf.constant([0.25,0.5])),\"\\n----------\")\n",
        "print(\"Observation 2: for n=5\")\n",
        "print(mclaurin(5,tf.constant([0.25,0.5])),\"\\n----------\")\n",
        "print(\"Observation 3: for n=10\")\n",
        "print(mclaurin(10,tf.constant([0.25,0.5])))\n"
      ],
      "execution_count": null,
      "outputs": [
        {
          "output_type": "stream",
          "text": [
            "Observation 1: for n=2\n",
            "tf.Tensor([0.96875 0.875  ], shape=(2,), dtype=float32) \n",
            "----------\n",
            "Observation 2: for n=5\n",
            "tf.Tensor([0.9689124 0.8775826], shape=(2,), dtype=float32) \n",
            "----------\n",
            "Observation 3: for n=10\n",
            "tf.Tensor([0.9689124 0.8775826], shape=(2,), dtype=float32)\n"
          ],
          "name": "stdout"
        }
      ]
    },
    {
      "cell_type": "markdown",
      "metadata": {
        "id": "eWu96KAjGQrK",
        "colab_type": "text"
      },
      "source": [
        "# **3. Series-3**"
      ]
    },
    {
      "cell_type": "code",
      "metadata": {
        "id": "HkzmITN2GUXH",
        "colab_type": "code",
        "colab": {}
      },
      "source": [
        "def series3(n,x):\n",
        "  '''\n",
        "  @args: n-denotes the number of terms in the series & x-denotes any n-dimensional tensor having elements in range (0,pi).\n",
        "  @returns: fx-denotes the values evaluated by f(x) for series-3 in the assignment corresponding to each element in the matrix.\n",
        "  '''\n",
        "  fx = tf.zeros(x.shape)\n",
        "  for itr in range(0,n):\n",
        "    fx += (m.factorial(2*itr)*tf.math.pow(x,2*itr*tf.ones(x.shape) + 1))/(m.pow(4,itr) * m.pow(m.factorial(itr),2)*(2*itr+1))\n",
        "  return fx"
      ],
      "execution_count": null,
      "outputs": []
    },
    {
      "cell_type": "code",
      "metadata": {
        "id": "WbD3nd8rJERZ",
        "colab_type": "code",
        "colab": {
          "base_uri": "https://localhost:8080/",
          "height": 153
        },
        "outputId": "9abe62c6-ff4b-4109-a9ac-ca0712ef5de7"
      },
      "source": [
        "#Observations\n",
        "# x=0.25 & 0.5\n",
        "print(\"Observation 1: for n=2\")\n",
        "print(series3(2,tf.constant([0.25,0.5])),\"\\n----------\")\n",
        "print(\"Observation 2: for n=5\")\n",
        "print(series3(5,tf.constant([0.25,0.5])),\"\\n----------\")\n",
        "print(\"Observation 3: for n=10\")\n",
        "print(series3(10,tf.constant([0.25,0.5])))\n"
      ],
      "execution_count": null,
      "outputs": [
        {
          "output_type": "stream",
          "text": [
            "Observation 1: for n=2\n",
            "tf.Tensor([0.25260416 0.5208333 ], shape=(2,), dtype=float32) \n",
            "----------\n",
            "Observation 2: for n=5\n",
            "tf.Tensor([0.25268024 0.5235852 ], shape=(2,), dtype=float32) \n",
            "----------\n",
            "Observation 3: for n=10\n",
            "tf.Tensor([0.25268024 0.52359873], shape=(2,), dtype=float32)\n"
          ],
          "name": "stdout"
        }
      ]
    }
  ]
}